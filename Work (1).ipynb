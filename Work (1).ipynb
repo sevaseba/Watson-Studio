{
 "cells": [
  {
   "cell_type": "markdown",
   "metadata": {},
   "source": [
    "<center>\n",
    "    <img src=\"https://cf-courses-data.s3.us.cloud-object-storage.appdomain.cloud/IBMDeveloperSkillsNetwork-DS0105EN-SkillsNetwork/labs/Module2/images/SN_web_lightmode.png\" width=\"300\" alt=\"cognitiveclass.ai logo\"  />\n",
    "</center>\n"
   ]
  },
  {
   "cell_type": "markdown",
   "metadata": {
    "collapsed": true
   },
   "source": [
    "# My Jupyter Notebook on IBM Watson Studio"
   ]
  },
  {
   "cell_type": "markdown",
   "metadata": {},
   "source": [
    "## Sebastian Jara Cifuentes\n",
    "### Math teacher"
   ]
  },
  {
   "cell_type": "markdown",
   "metadata": {},
   "source": [
    "$\\textit{As a student I have always shown interest in continuing to learn and improve myself professionally.}$"
   ]
  },
  {
   "cell_type": "markdown",
   "metadata": {},
   "source": [
    "### My code identifies if a number is even or odd"
   ]
  },
  {
   "cell_type": "code",
   "execution_count": 9,
   "metadata": {},
   "outputs": [],
   "source": [
    "def parity(x):\n",
    "    m = x%2\n",
    "    if m == 0:\n",
    "        return print('Number', x, 'is even')\n",
    "    else:\n",
    "        return print('Number', x, 'is odd')"
   ]
  },
  {
   "cell_type": "code",
   "execution_count": 10,
   "metadata": {},
   "outputs": [
    {
     "name": "stdout",
     "output_type": "stream",
     "text": [
      "Number 3 is odd\n"
     ]
    }
   ],
   "source": [
    "parity(3)"
   ]
  },
  {
   "cell_type": "markdown",
   "metadata": {},
   "source": [
    "| day | To Do |\n",
    "| ----| ----|\n",
    "| 12 Dic | Web site |\n",
    "| 15 Dic | visit my mom |\n",
    "| 17 Dic | send the package |\n",
    "\n",
    "[You_Tube](https://www.youtube.com/)\n",
    "\n",
    "1. One\n",
    "   Keep your eyes on the stars, and your feet on the ground (Mantén tu mirada en las estrellas y tus pies en la tierra).\n",
    "\n",
    "2. Two\n",
    "   If opportunity doesn’t knock, build a door\n",
    "\n",
    "3. Three\n",
    "   Excuses are for people who don’t want it bad enough \n"
   ]
  },
  {
   "cell_type": "code",
   "execution_count": null,
   "metadata": {},
   "outputs": [],
   "source": []
  }
 ],
 "metadata": {
  "kernelspec": {
   "display_name": "Python 3.10",
   "language": "python",
   "name": "python3"
  },
  "language_info": {
   "codemirror_mode": {
    "name": "ipython",
    "version": 3
   },
   "file_extension": ".py",
   "mimetype": "text/x-python",
   "name": "python",
   "nbconvert_exporter": "python",
   "pygments_lexer": "ipython3",
   "version": "3.10.6"
  }
 },
 "nbformat": 4,
 "nbformat_minor": 1
}
