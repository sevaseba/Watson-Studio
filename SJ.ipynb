{
 "cells": [
  {
   "cell_type": "markdown",
   "id": "e88644a0",
   "metadata": {},
   "source": [
    "<p style=\"text-align:center\">\n",
    "    <a href=\"https://skills.network/?utm_medium=Exinfluencer&utm_source=Exinfluencer&utm_content=000026UJ&utm_term=10006555&utm_id=NA-SkillsNetwork-Channel-SkillsNetworkCoursesIBMDeveloperSkillsNetworkPY0220ENSkillsNetwork900-2022-01-01\" target=\"_blank\">\n",
    "    <img src=\"https://cf-courses-data.s3.us.cloud-object-storage.appdomain.cloud/assets/logos/SN_web_lightmode.png\" width=\"200\" alt=\"Skills Network Logo\"  />\n",
    "    </a>\n",
    "</p>\n"
   ]
  },
  {
   "cell_type": "markdown",
   "id": "84d09c90",
   "metadata": {},
   "source": [
    "<h1>Extracting and Visualizing Stock Data</h1>\n",
    "<h2>Description</h2>\n"
   ]
  },
  {
   "cell_type": "markdown",
   "id": "7dca211a",
   "metadata": {},
   "source": [
    "Extracting essential data from a dataset and displaying it is a necessary part of data science; therefore individuals can make correct decisions based on the data. In this assignment, you will extract some stock data, you will then display this data in a graph.\n"
   ]
  },
  {
   "cell_type": "markdown",
   "id": "a540c0e6",
   "metadata": {},
   "source": [
    "<h2>Table of Contents</h2>\n",
    "<div class=\"alert alert-block alert-info\" style=\"margin-top: 20px\">\n",
    "    <ul>\n",
    "        <li>Define a Function that Makes a Graph</li>\n",
    "        <li>Question 1: Use yfinance to Extract Stock Data</li>\n",
    "        <li>Question 2: Use Webscraping to Extract Tesla Revenue Data</li>\n",
    "        <li>Question 3: Use yfinance to Extract Stock Data</li>\n",
    "        <li>Question 4: Use Webscraping to Extract GME Revenue Data</li>\n",
    "        <li>Question 5: Plot Tesla Stock Graph</li>\n",
    "        <li>Question 6: Plot GameStop Stock Graph</li>\n",
    "    </ul>\n",
    "<p>\n",
    "    Estimated Time Needed: <strong>30 min</strong></p>\n",
    "</div>\n",
    "\n",
    "<hr>\n"
   ]
  },
  {
   "cell_type": "code",
   "execution_count": 4,
   "id": "5e1e4258",
   "metadata": {},
   "outputs": [
    {
     "name": "stdout",
     "output_type": "stream",
     "text": [
      "Requirement already satisfied: yfinance==0.1.67 in /Users/sebastianjara/miniforge3/envs/env_tf/lib/python3.9/site-packages (0.1.67)\n",
      "Requirement already satisfied: requests>=2.20 in /Users/sebastianjara/miniforge3/envs/env_tf/lib/python3.9/site-packages (from yfinance==0.1.67) (2.28.1)\n",
      "Requirement already satisfied: numpy>=1.15 in /Users/sebastianjara/miniforge3/envs/env_tf/lib/python3.9/site-packages (from yfinance==0.1.67) (1.22.4)\n",
      "Requirement already satisfied: lxml>=4.5.1 in /Users/sebastianjara/miniforge3/envs/env_tf/lib/python3.9/site-packages (from yfinance==0.1.67) (4.9.2)\n",
      "Requirement already satisfied: pandas>=0.24 in /Users/sebastianjara/miniforge3/envs/env_tf/lib/python3.9/site-packages (from yfinance==0.1.67) (1.4.3)\n",
      "Requirement already satisfied: multitasking>=0.0.7 in /Users/sebastianjara/miniforge3/envs/env_tf/lib/python3.9/site-packages (from yfinance==0.1.67) (0.0.11)\n",
      "Requirement already satisfied: python-dateutil>=2.8.1 in /Users/sebastianjara/miniforge3/envs/env_tf/lib/python3.9/site-packages (from pandas>=0.24->yfinance==0.1.67) (2.8.2)\n",
      "Requirement already satisfied: pytz>=2020.1 in /Users/sebastianjara/miniforge3/envs/env_tf/lib/python3.9/site-packages (from pandas>=0.24->yfinance==0.1.67) (2022.1)\n",
      "Requirement already satisfied: certifi>=2017.4.17 in /Users/sebastianjara/miniforge3/envs/env_tf/lib/python3.9/site-packages (from requests>=2.20->yfinance==0.1.67) (2022.6.15)\n",
      "Requirement already satisfied: charset-normalizer<3,>=2 in /Users/sebastianjara/miniforge3/envs/env_tf/lib/python3.9/site-packages (from requests>=2.20->yfinance==0.1.67) (2.1.0)\n",
      "Requirement already satisfied: idna<4,>=2.5 in /Users/sebastianjara/miniforge3/envs/env_tf/lib/python3.9/site-packages (from requests>=2.20->yfinance==0.1.67) (3.3)\n",
      "Requirement already satisfied: urllib3<1.27,>=1.21.1 in /Users/sebastianjara/miniforge3/envs/env_tf/lib/python3.9/site-packages (from requests>=2.20->yfinance==0.1.67) (1.26.10)\n",
      "Requirement already satisfied: six>=1.5 in /Users/sebastianjara/miniforge3/envs/env_tf/lib/python3.9/site-packages (from python-dateutil>=2.8.1->pandas>=0.24->yfinance==0.1.67) (1.15.0)\n",
      "zsh:1: command not found: mamba\n",
      "Collecting nbformat==4.2.0\n",
      "  Using cached nbformat-4.2.0-py2.py3-none-any.whl (153 kB)\n",
      "Requirement already satisfied: ipython-genutils in /Users/sebastianjara/miniforge3/envs/env_tf/lib/python3.9/site-packages (from nbformat==4.2.0) (0.2.0)\n",
      "Requirement already satisfied: traitlets>=4.1 in /Users/sebastianjara/miniforge3/envs/env_tf/lib/python3.9/site-packages (from nbformat==4.2.0) (5.3.0)\n",
      "Requirement already satisfied: jsonschema!=2.5.0,>=2.4 in /Users/sebastianjara/miniforge3/envs/env_tf/lib/python3.9/site-packages (from nbformat==4.2.0) (4.7.1)\n",
      "Requirement already satisfied: jupyter-core in /Users/sebastianjara/miniforge3/envs/env_tf/lib/python3.9/site-packages (from nbformat==4.2.0) (4.10.0)\n",
      "Requirement already satisfied: pyrsistent!=0.17.0,!=0.17.1,!=0.17.2,>=0.14.0 in /Users/sebastianjara/miniforge3/envs/env_tf/lib/python3.9/site-packages (from jsonschema!=2.5.0,>=2.4->nbformat==4.2.0) (0.18.1)\n",
      "Requirement already satisfied: attrs>=17.4.0 in /Users/sebastianjara/miniforge3/envs/env_tf/lib/python3.9/site-packages (from jsonschema!=2.5.0,>=2.4->nbformat==4.2.0) (21.4.0)\n",
      "Installing collected packages: nbformat\n",
      "  Attempting uninstall: nbformat\n",
      "    Found existing installation: nbformat 5.7.1\n",
      "    Uninstalling nbformat-5.7.1:\n",
      "      Successfully uninstalled nbformat-5.7.1\n",
      "\u001b[31mERROR: pip's dependency resolver does not currently take into account all the packages that are installed. This behaviour is the source of the following dependency conflicts.\n",
      "jupyter 1.0.0 requires qtconsole, which is not installed.\n",
      "nbconvert 6.4.5 requires nbformat>=4.4, but you have nbformat 4.2.0 which is incompatible.\n",
      "nbclient 0.5.13 requires nbformat>=5.0, but you have nbformat 4.2.0 which is incompatible.\n",
      "jupyterlab 2.1.0 requires jupyterlab_server>=1.1.0, but you have jupyterlab-server 1.0.9 which is incompatible.\u001b[0m\u001b[31m\n",
      "\u001b[0mSuccessfully installed nbformat-4.2.0\n"
     ]
    }
   ],
   "source": [
    "!pip install yfinance==0.1.67\n",
    "!mamba install bs4==4.10.0 -y\n",
    "!pip install nbformat==4.2.0"
   ]
  },
  {
   "cell_type": "code",
   "execution_count": 5,
   "id": "071fefa6",
   "metadata": {},
   "outputs": [
    {
     "name": "stdout",
     "output_type": "stream",
     "text": [
      "Requirement already satisfied: plotly in /Users/sebastianjara/miniforge3/envs/env_tf/lib/python3.9/site-packages (5.11.0)\n",
      "Requirement already satisfied: tenacity>=6.2.0 in /Users/sebastianjara/miniforge3/envs/env_tf/lib/python3.9/site-packages (from plotly) (8.1.0)\n"
     ]
    }
   ],
   "source": [
    "!pip install plotly"
   ]
  },
  {
   "cell_type": "code",
   "execution_count": 6,
   "id": "c9696135",
   "metadata": {},
   "outputs": [],
   "source": [
    "import yfinance as yf\n",
    "import pandas as pd\n",
    "import requests\n",
    "from bs4 import BeautifulSoup\n",
    "import plotly.graph_objects as go\n",
    "from plotly.subplots import make_subplots"
   ]
  },
  {
   "cell_type": "code",
   "execution_count": 105,
   "id": "92de957a",
   "metadata": {},
   "outputs": [],
   "source": [
    "import matplotlib.pyplot as plt"
   ]
  },
  {
   "cell_type": "markdown",
   "id": "c7ff706f",
   "metadata": {},
   "source": [
    "## Define Graphing Function\n"
   ]
  },
  {
   "cell_type": "markdown",
   "id": "6a5bc672",
   "metadata": {},
   "source": [
    "In this section, we define the function `make_graph`. You don't have to know how the function works, you should only care about the inputs. It takes a dataframe with stock data (dataframe must contain Date and Close columns), a dataframe with revenue data (dataframe must contain Date and Revenue columns), and the name of the stock.\n"
   ]
  },
  {
   "cell_type": "code",
   "execution_count": 75,
   "id": "10bbf17e",
   "metadata": {},
   "outputs": [],
   "source": [
    "def make_graph(stock_data, revenue_data, stock):\n",
    "    fig = make_subplots(rows=2, cols=1, shared_xaxes=True, subplot_titles=(\"Historical Share Price\", \"Historical Revenue\"), vertical_spacing = .3)\n",
    "    stock_data_specific = stock_data[stock_data.Date <= '2021--06-14']\n",
    "    revenue_data_specific = revenue_data[revenue_data.Date <= '2021-04-30']\n",
    "    fig.add_trace(go.Scatter(x=pd.to_datetime(stock_data_specific.Date, infer_datetime_format=True), y=stock_data_specific.Close.astype(\"float\"), name=\"Share Price\"), row=1, col=1)\n",
    "    fig.add_trace(go.Scatter(x=pd.to_datetime(revenue_data_specific.Date, infer_datetime_format=True), y=revenue_data_specific.Revenue.astype(\"float\"), name=\"Revenue\"), row=2, col=1)\n",
    "    fig.update_xaxes(title_text=\"Date\", row=1, col=1)\n",
    "    fig.update_xaxes(title_text=\"Date\", row=2, col=1)\n",
    "    fig.update_yaxes(title_text=\"Price ($US)\", row=1, col=1)\n",
    "    fig.update_yaxes(title_text=\"Revenue ($US Millions)\", row=2, col=1)\n",
    "    fig.update_layout(showlegend=False,\n",
    "    height=900,\n",
    "    title=stock,\n",
    "    xaxis_rangeslider_visible=False)\n",
    "    fig.show()"
   ]
  },
  {
   "cell_type": "markdown",
   "id": "b4117bf7",
   "metadata": {},
   "source": [
    "## Question 1: Use yfinance to Extract Stock Data\n"
   ]
  },
  {
   "cell_type": "markdown",
   "id": "afc13744",
   "metadata": {},
   "source": [
    "Using the `Ticker` function enter the ticker symbol of the stock we want to extract data on to create a ticker object. The stock is Tesla and its ticker symbol is `TSLA`.\n"
   ]
  },
  {
   "cell_type": "code",
   "execution_count": 8,
   "id": "26262093",
   "metadata": {},
   "outputs": [],
   "source": [
    "tesla = yf.Ticker(\"TSLA\")"
   ]
  },
  {
   "cell_type": "markdown",
   "id": "1035c41c",
   "metadata": {},
   "source": [
    "Using the ticker object and the function `history` extract stock information and save it in a dataframe named `tesla_data`. Set the `period` parameter to `max` so we get information for the maximum amount of time.\n"
   ]
  },
  {
   "cell_type": "code",
   "execution_count": 9,
   "id": "ba31eee4",
   "metadata": {},
   "outputs": [],
   "source": [
    "tesla_data = tesla.history(period=\"max\")"
   ]
  },
  {
   "cell_type": "code",
   "execution_count": null,
   "id": "0ef1178e",
   "metadata": {},
   "outputs": [],
   "source": []
  },
  {
   "cell_type": "markdown",
   "id": "254a1473",
   "metadata": {},
   "source": [
    "**Reset the index** using the `reset_index(inplace=True)` function on the tesla_data DataFrame and display the first five rows of the `tesla_data` dataframe using the `head` function. Take a screenshot of the results and code from the beginning of Question 1 to the results below.\n"
   ]
  },
  {
   "cell_type": "code",
   "execution_count": 10,
   "id": "c4c4fb9f",
   "metadata": {},
   "outputs": [],
   "source": [
    "tesla_data.reset_index(inplace=True)"
   ]
  },
  {
   "cell_type": "code",
   "execution_count": 11,
   "id": "09e4b385",
   "metadata": {},
   "outputs": [
    {
     "data": {
      "text/html": [
       "<div>\n",
       "<style scoped>\n",
       "    .dataframe tbody tr th:only-of-type {\n",
       "        vertical-align: middle;\n",
       "    }\n",
       "\n",
       "    .dataframe tbody tr th {\n",
       "        vertical-align: top;\n",
       "    }\n",
       "\n",
       "    .dataframe thead th {\n",
       "        text-align: right;\n",
       "    }\n",
       "</style>\n",
       "<table border=\"1\" class=\"dataframe\">\n",
       "  <thead>\n",
       "    <tr style=\"text-align: right;\">\n",
       "      <th></th>\n",
       "      <th>Date</th>\n",
       "      <th>Open</th>\n",
       "      <th>High</th>\n",
       "      <th>Low</th>\n",
       "      <th>Close</th>\n",
       "      <th>Volume</th>\n",
       "      <th>Dividends</th>\n",
       "      <th>Stock Splits</th>\n",
       "    </tr>\n",
       "  </thead>\n",
       "  <tbody>\n",
       "    <tr>\n",
       "      <th>0</th>\n",
       "      <td>2010-06-29</td>\n",
       "      <td>1.266667</td>\n",
       "      <td>1.666667</td>\n",
       "      <td>1.169333</td>\n",
       "      <td>1.592667</td>\n",
       "      <td>281494500</td>\n",
       "      <td>0</td>\n",
       "      <td>0.0</td>\n",
       "    </tr>\n",
       "    <tr>\n",
       "      <th>1</th>\n",
       "      <td>2010-06-30</td>\n",
       "      <td>1.719333</td>\n",
       "      <td>2.028000</td>\n",
       "      <td>1.553333</td>\n",
       "      <td>1.588667</td>\n",
       "      <td>257806500</td>\n",
       "      <td>0</td>\n",
       "      <td>0.0</td>\n",
       "    </tr>\n",
       "    <tr>\n",
       "      <th>2</th>\n",
       "      <td>2010-07-01</td>\n",
       "      <td>1.666667</td>\n",
       "      <td>1.728000</td>\n",
       "      <td>1.351333</td>\n",
       "      <td>1.464000</td>\n",
       "      <td>123282000</td>\n",
       "      <td>0</td>\n",
       "      <td>0.0</td>\n",
       "    </tr>\n",
       "    <tr>\n",
       "      <th>3</th>\n",
       "      <td>2010-07-02</td>\n",
       "      <td>1.533333</td>\n",
       "      <td>1.540000</td>\n",
       "      <td>1.247333</td>\n",
       "      <td>1.280000</td>\n",
       "      <td>77097000</td>\n",
       "      <td>0</td>\n",
       "      <td>0.0</td>\n",
       "    </tr>\n",
       "    <tr>\n",
       "      <th>4</th>\n",
       "      <td>2010-07-06</td>\n",
       "      <td>1.333333</td>\n",
       "      <td>1.333333</td>\n",
       "      <td>1.055333</td>\n",
       "      <td>1.074000</td>\n",
       "      <td>103003500</td>\n",
       "      <td>0</td>\n",
       "      <td>0.0</td>\n",
       "    </tr>\n",
       "  </tbody>\n",
       "</table>\n",
       "</div>"
      ],
      "text/plain": [
       "        Date      Open      High       Low     Close     Volume  Dividends  \\\n",
       "0 2010-06-29  1.266667  1.666667  1.169333  1.592667  281494500          0   \n",
       "1 2010-06-30  1.719333  2.028000  1.553333  1.588667  257806500          0   \n",
       "2 2010-07-01  1.666667  1.728000  1.351333  1.464000  123282000          0   \n",
       "3 2010-07-02  1.533333  1.540000  1.247333  1.280000   77097000          0   \n",
       "4 2010-07-06  1.333333  1.333333  1.055333  1.074000  103003500          0   \n",
       "\n",
       "   Stock Splits  \n",
       "0           0.0  \n",
       "1           0.0  \n",
       "2           0.0  \n",
       "3           0.0  \n",
       "4           0.0  "
      ]
     },
     "execution_count": 11,
     "metadata": {},
     "output_type": "execute_result"
    }
   ],
   "source": [
    "tesla_data.head()"
   ]
  },
  {
   "cell_type": "code",
   "execution_count": 67,
   "id": "36e3380d",
   "metadata": {},
   "outputs": [
    {
     "data": {
      "text/plain": [
       "<AxesSubplot:xlabel='Date'>"
      ]
     },
     "execution_count": 67,
     "metadata": {},
     "output_type": "execute_result"
    },
    {
     "data": {
      "image/png": "[encoded data removed]",
      "text/plain": [
       "<Figure size 432x288 with 1 Axes>"
      ]
     },
     "metadata": {
      "needs_background": "light"
     },
     "output_type": "display_data"
    }
   ],
   "source": [
    "tesla_data.plot(x='Date', y = 'Open')\n"
   ]
  },
  {
   "cell_type": "code",
   "execution_count": 73,
   "id": "09771020",
   "metadata": {},
   "outputs": [
    {
     "data": {
      "text/html": [
       "<div>\n",
       "<style scoped>\n",
       "    .dataframe tbody tr th:only-of-type {\n",
       "        vertical-align: middle;\n",
       "    }\n",
       "\n",
       "    .dataframe tbody tr th {\n",
       "        vertical-align: top;\n",
       "    }\n",
       "\n",
       "    .dataframe thead th {\n",
       "        text-align: right;\n",
       "    }\n",
       "</style>\n",
       "<table border=\"1\" class=\"dataframe\">\n",
       "  <thead>\n",
       "    <tr style=\"text-align: right;\">\n",
       "      <th></th>\n",
       "      <th>Date</th>\n",
       "      <th>Open</th>\n",
       "      <th>High</th>\n",
       "      <th>Low</th>\n",
       "      <th>Close</th>\n",
       "      <th>Volume</th>\n",
       "      <th>Dividends</th>\n",
       "      <th>Stock Splits</th>\n",
       "    </tr>\n",
       "  </thead>\n",
       "  <tbody>\n",
       "    <tr>\n",
       "      <th>0</th>\n",
       "      <td>2010-06-29</td>\n",
       "      <td>1.266667</td>\n",
       "      <td>1.666667</td>\n",
       "      <td>1.169333</td>\n",
       "      <td>1.592667</td>\n",
       "      <td>281494500</td>\n",
       "      <td>0</td>\n",
       "      <td>0.0</td>\n",
       "    </tr>\n",
       "    <tr>\n",
       "      <th>1</th>\n",
       "      <td>2010-06-30</td>\n",
       "      <td>1.719333</td>\n",
       "      <td>2.028000</td>\n",
       "      <td>1.553333</td>\n",
       "      <td>1.588667</td>\n",
       "      <td>257806500</td>\n",
       "      <td>0</td>\n",
       "      <td>0.0</td>\n",
       "    </tr>\n",
       "    <tr>\n",
       "      <th>2</th>\n",
       "      <td>2010-07-01</td>\n",
       "      <td>1.666667</td>\n",
       "      <td>1.728000</td>\n",
       "      <td>1.351333</td>\n",
       "      <td>1.464000</td>\n",
       "      <td>123282000</td>\n",
       "      <td>0</td>\n",
       "      <td>0.0</td>\n",
       "    </tr>\n",
       "    <tr>\n",
       "      <th>3</th>\n",
       "      <td>2010-07-02</td>\n",
       "      <td>1.533333</td>\n",
       "      <td>1.540000</td>\n",
       "      <td>1.247333</td>\n",
       "      <td>1.280000</td>\n",
       "      <td>77097000</td>\n",
       "      <td>0</td>\n",
       "      <td>0.0</td>\n",
       "    </tr>\n",
       "    <tr>\n",
       "      <th>4</th>\n",
       "      <td>2010-07-06</td>\n",
       "      <td>1.333333</td>\n",
       "      <td>1.333333</td>\n",
       "      <td>1.055333</td>\n",
       "      <td>1.074000</td>\n",
       "      <td>103003500</td>\n",
       "      <td>0</td>\n",
       "      <td>0.0</td>\n",
       "    </tr>\n",
       "    <tr>\n",
       "      <th>...</th>\n",
       "      <td>...</td>\n",
       "      <td>...</td>\n",
       "      <td>...</td>\n",
       "      <td>...</td>\n",
       "      <td>...</td>\n",
       "      <td>...</td>\n",
       "      <td>...</td>\n",
       "      <td>...</td>\n",
       "    </tr>\n",
       "    <tr>\n",
       "      <th>3148</th>\n",
       "      <td>2022-12-29</td>\n",
       "      <td>120.389999</td>\n",
       "      <td>123.570000</td>\n",
       "      <td>117.500000</td>\n",
       "      <td>121.820000</td>\n",
       "      <td>221923300</td>\n",
       "      <td>0</td>\n",
       "      <td>0.0</td>\n",
       "    </tr>\n",
       "    <tr>\n",
       "      <th>3149</th>\n",
       "      <td>2022-12-30</td>\n",
       "      <td>119.949997</td>\n",
       "      <td>124.480003</td>\n",
       "      <td>119.750000</td>\n",
       "      <td>123.180000</td>\n",
       "      <td>157304500</td>\n",
       "      <td>0</td>\n",
       "      <td>0.0</td>\n",
       "    </tr>\n",
       "    <tr>\n",
       "      <th>3150</th>\n",
       "      <td>2023-01-03</td>\n",
       "      <td>118.470001</td>\n",
       "      <td>118.800003</td>\n",
       "      <td>104.639999</td>\n",
       "      <td>108.099998</td>\n",
       "      <td>231402800</td>\n",
       "      <td>0</td>\n",
       "      <td>0.0</td>\n",
       "    </tr>\n",
       "    <tr>\n",
       "      <th>3151</th>\n",
       "      <td>2023-01-04</td>\n",
       "      <td>109.110001</td>\n",
       "      <td>114.589996</td>\n",
       "      <td>107.519997</td>\n",
       "      <td>113.639999</td>\n",
       "      <td>180389000</td>\n",
       "      <td>0</td>\n",
       "      <td>0.0</td>\n",
       "    </tr>\n",
       "    <tr>\n",
       "      <th>3152</th>\n",
       "      <td>2023-01-05</td>\n",
       "      <td>110.510002</td>\n",
       "      <td>111.750000</td>\n",
       "      <td>107.160004</td>\n",
       "      <td>110.339996</td>\n",
       "      <td>157735100</td>\n",
       "      <td>0</td>\n",
       "      <td>0.0</td>\n",
       "    </tr>\n",
       "  </tbody>\n",
       "</table>\n",
       "<p>3153 rows × 8 columns</p>\n",
       "</div>"
      ],
      "text/plain": [
       "           Date        Open        High         Low       Close     Volume  \\\n",
       "0    2010-06-29    1.266667    1.666667    1.169333    1.592667  281494500   \n",
       "1    2010-06-30    1.719333    2.028000    1.553333    1.588667  257806500   \n",
       "2    2010-07-01    1.666667    1.728000    1.351333    1.464000  123282000   \n",
       "3    2010-07-02    1.533333    1.540000    1.247333    1.280000   77097000   \n",
       "4    2010-07-06    1.333333    1.333333    1.055333    1.074000  103003500   \n",
       "...         ...         ...         ...         ...         ...        ...   \n",
       "3148 2022-12-29  120.389999  123.570000  117.500000  121.820000  221923300   \n",
       "3149 2022-12-30  119.949997  124.480003  119.750000  123.180000  157304500   \n",
       "3150 2023-01-03  118.470001  118.800003  104.639999  108.099998  231402800   \n",
       "3151 2023-01-04  109.110001  114.589996  107.519997  113.639999  180389000   \n",
       "3152 2023-01-05  110.510002  111.750000  107.160004  110.339996  157735100   \n",
       "\n",
       "      Dividends  Stock Splits  \n",
       "0             0           0.0  \n",
       "1             0           0.0  \n",
       "2             0           0.0  \n",
       "3             0           0.0  \n",
       "4             0           0.0  \n",
       "...         ...           ...  \n",
       "3148          0           0.0  \n",
       "3149          0           0.0  \n",
       "3150          0           0.0  \n",
       "3151          0           0.0  \n",
       "3152          0           0.0  \n",
       "\n",
       "[3153 rows x 8 columns]"
      ]
     },
     "execution_count": 73,
     "metadata": {},
     "output_type": "execute_result"
    }
   ],
   "source": [
    "tesla_data"
   ]
  },
  {
   "cell_type": "code",
   "execution_count": null,
   "id": "5c63ebe2",
   "metadata": {},
   "outputs": [],
   "source": []
  },
  {
   "cell_type": "markdown",
   "id": "fd25af00",
   "metadata": {},
   "source": [
    "## Question 2: Use Webscraping to Extract Tesla Revenue Data\n"
   ]
  },
  {
   "cell_type": "markdown",
   "id": "b08836a5",
   "metadata": {},
   "source": [
    "Use the `requests` library to download the webpage https://cf-courses-data.s3.us.cloud-object-storage.appdomain.cloud/IBMDeveloperSkillsNetwork-PY0220EN-SkillsNetwork/labs/project/revenue.htm Save the text of the response as a variable named `html_data`.\n"
   ]
  },
  {
   "cell_type": "code",
   "execution_count": 12,
   "id": "6bbbe504",
   "metadata": {},
   "outputs": [],
   "source": [
    "url = \"https://cf-courses-data.s3.us.cloud-object-storage.appdomain.cloud/IBMDeveloperSkillsNetwork-PY0220EN-SkillsNetwork/labs/project/revenue.htm\"\n",
    "\n",
    "html_data  = requests.get(url).text"
   ]
  },
  {
   "cell_type": "markdown",
   "id": "88acb65e",
   "metadata": {},
   "source": [
    "Parse the html data using `beautiful_soup`.\n"
   ]
  },
  {
   "cell_type": "code",
   "execution_count": 13,
   "id": "6872409f",
   "metadata": {},
   "outputs": [],
   "source": [
    "beautiful_soup = BeautifulSoup(html_data, 'html.parser')"
   ]
  },
  {
   "cell_type": "markdown",
   "id": "2a96774e",
   "metadata": {},
   "source": [
    "Using `BeautifulSoup` or the `read_html` function extract the table with `Tesla Quarterly Revenue` and store it into a dataframe named `tesla_revenue`. The dataframe should have columns `Date` and `Revenue`.\n"
   ]
  },
  {
   "cell_type": "code",
   "execution_count": 117,
   "id": "5625dcd0",
   "metadata": {},
   "outputs": [
    {
     "data": {
      "text/html": [
       "<div>\n",
       "<style scoped>\n",
       "    .dataframe tbody tr th:only-of-type {\n",
       "        vertical-align: middle;\n",
       "    }\n",
       "\n",
       "    .dataframe tbody tr th {\n",
       "        vertical-align: top;\n",
       "    }\n",
       "\n",
       "    .dataframe thead th {\n",
       "        text-align: right;\n",
       "    }\n",
       "</style>\n",
       "<table border=\"1\" class=\"dataframe\">\n",
       "  <thead>\n",
       "    <tr style=\"text-align: right;\">\n",
       "      <th></th>\n",
       "      <th>Date</th>\n",
       "      <th>Revenue</th>\n",
       "    </tr>\n",
       "  </thead>\n",
       "  <tbody>\n",
       "    <tr>\n",
       "      <th>48</th>\n",
       "      <td>2010-09-30</td>\n",
       "      <td>31</td>\n",
       "    </tr>\n",
       "    <tr>\n",
       "      <th>49</th>\n",
       "      <td>2010-06-30</td>\n",
       "      <td>28</td>\n",
       "    </tr>\n",
       "    <tr>\n",
       "      <th>50</th>\n",
       "      <td>2010-03-31</td>\n",
       "      <td>21</td>\n",
       "    </tr>\n",
       "    <tr>\n",
       "      <th>52</th>\n",
       "      <td>2009-09-30</td>\n",
       "      <td>46</td>\n",
       "    </tr>\n",
       "    <tr>\n",
       "      <th>53</th>\n",
       "      <td>2009-06-30</td>\n",
       "      <td>27</td>\n",
       "    </tr>\n",
       "  </tbody>\n",
       "</table>\n",
       "</div>"
      ],
      "text/plain": [
       "          Date Revenue\n",
       "48  2010-09-30      31\n",
       "49  2010-06-30      28\n",
       "50  2010-03-31      21\n",
       "52  2009-09-30      46\n",
       "53  2009-06-30      27"
      ]
     },
     "execution_count": 117,
     "metadata": {},
     "output_type": "execute_result"
    }
   ],
   "source": [
    "tesla_revenue.tail()"
   ]
  },
  {
   "cell_type": "code",
   "execution_count": 14,
   "id": "c733a0f3",
   "metadata": {},
   "outputs": [
    {
     "name": "stderr",
     "output_type": "stream",
     "text": [
      "/var/folders/nz/n57f12195sb4l1sr1c9b_3fr0000gn/T/ipykernel_89667/2250338848.py:7: FutureWarning: The frame.append method is deprecated and will be removed from pandas in a future version. Use pandas.concat instead.\n",
      "  tesla_revenue = tesla_revenue.append({\"Date\":date, \"Revenue\":Revenue}, ignore_index=True)\n",
      "/var/folders/nz/n57f12195sb4l1sr1c9b_3fr0000gn/T/ipykernel_89667/2250338848.py:7: FutureWarning: The frame.append method is deprecated and will be removed from pandas in a future version. Use pandas.concat instead.\n",
      "  tesla_revenue = tesla_revenue.append({\"Date\":date, \"Revenue\":Revenue}, ignore_index=True)\n",
      "/var/folders/nz/n57f12195sb4l1sr1c9b_3fr0000gn/T/ipykernel_89667/2250338848.py:7: FutureWarning: The frame.append method is deprecated and will be removed from pandas in a future version. Use pandas.concat instead.\n",
      "  tesla_revenue = tesla_revenue.append({\"Date\":date, \"Revenue\":Revenue}, ignore_index=True)\n",
      "/var/folders/nz/n57f12195sb4l1sr1c9b_3fr0000gn/T/ipykernel_89667/2250338848.py:7: FutureWarning: The frame.append method is deprecated and will be removed from pandas in a future version. Use pandas.concat instead.\n",
      "  tesla_revenue = tesla_revenue.append({\"Date\":date, \"Revenue\":Revenue}, ignore_index=True)\n",
      "/var/folders/nz/n57f12195sb4l1sr1c9b_3fr0000gn/T/ipykernel_89667/2250338848.py:7: FutureWarning: The frame.append method is deprecated and will be removed from pandas in a future version. Use pandas.concat instead.\n",
      "  tesla_revenue = tesla_revenue.append({\"Date\":date, \"Revenue\":Revenue}, ignore_index=True)\n",
      "/var/folders/nz/n57f12195sb4l1sr1c9b_3fr0000gn/T/ipykernel_89667/2250338848.py:7: FutureWarning: The frame.append method is deprecated and will be removed from pandas in a future version. Use pandas.concat instead.\n",
      "  tesla_revenue = tesla_revenue.append({\"Date\":date, \"Revenue\":Revenue}, ignore_index=True)\n",
      "/var/folders/nz/n57f12195sb4l1sr1c9b_3fr0000gn/T/ipykernel_89667/2250338848.py:7: FutureWarning: The frame.append method is deprecated and will be removed from pandas in a future version. Use pandas.concat instead.\n",
      "  tesla_revenue = tesla_revenue.append({\"Date\":date, \"Revenue\":Revenue}, ignore_index=True)\n",
      "/var/folders/nz/n57f12195sb4l1sr1c9b_3fr0000gn/T/ipykernel_89667/2250338848.py:7: FutureWarning: The frame.append method is deprecated and will be removed from pandas in a future version. Use pandas.concat instead.\n",
      "  tesla_revenue = tesla_revenue.append({\"Date\":date, \"Revenue\":Revenue}, ignore_index=True)\n",
      "/var/folders/nz/n57f12195sb4l1sr1c9b_3fr0000gn/T/ipykernel_89667/2250338848.py:7: FutureWarning: The frame.append method is deprecated and will be removed from pandas in a future version. Use pandas.concat instead.\n",
      "  tesla_revenue = tesla_revenue.append({\"Date\":date, \"Revenue\":Revenue}, ignore_index=True)\n",
      "/var/folders/nz/n57f12195sb4l1sr1c9b_3fr0000gn/T/ipykernel_89667/2250338848.py:7: FutureWarning: The frame.append method is deprecated and will be removed from pandas in a future version. Use pandas.concat instead.\n",
      "  tesla_revenue = tesla_revenue.append({\"Date\":date, \"Revenue\":Revenue}, ignore_index=True)\n",
      "/var/folders/nz/n57f12195sb4l1sr1c9b_3fr0000gn/T/ipykernel_89667/2250338848.py:7: FutureWarning: The frame.append method is deprecated and will be removed from pandas in a future version. Use pandas.concat instead.\n",
      "  tesla_revenue = tesla_revenue.append({\"Date\":date, \"Revenue\":Revenue}, ignore_index=True)\n",
      "/var/folders/nz/n57f12195sb4l1sr1c9b_3fr0000gn/T/ipykernel_89667/2250338848.py:7: FutureWarning: The frame.append method is deprecated and will be removed from pandas in a future version. Use pandas.concat instead.\n",
      "  tesla_revenue = tesla_revenue.append({\"Date\":date, \"Revenue\":Revenue}, ignore_index=True)\n",
      "/var/folders/nz/n57f12195sb4l1sr1c9b_3fr0000gn/T/ipykernel_89667/2250338848.py:7: FutureWarning: The frame.append method is deprecated and will be removed from pandas in a future version. Use pandas.concat instead.\n",
      "  tesla_revenue = tesla_revenue.append({\"Date\":date, \"Revenue\":Revenue}, ignore_index=True)\n",
      "/var/folders/nz/n57f12195sb4l1sr1c9b_3fr0000gn/T/ipykernel_89667/2250338848.py:7: FutureWarning: The frame.append method is deprecated and will be removed from pandas in a future version. Use pandas.concat instead.\n",
      "  tesla_revenue = tesla_revenue.append({\"Date\":date, \"Revenue\":Revenue}, ignore_index=True)\n",
      "/var/folders/nz/n57f12195sb4l1sr1c9b_3fr0000gn/T/ipykernel_89667/2250338848.py:7: FutureWarning: The frame.append method is deprecated and will be removed from pandas in a future version. Use pandas.concat instead.\n",
      "  tesla_revenue = tesla_revenue.append({\"Date\":date, \"Revenue\":Revenue}, ignore_index=True)\n",
      "/var/folders/nz/n57f12195sb4l1sr1c9b_3fr0000gn/T/ipykernel_89667/2250338848.py:7: FutureWarning: The frame.append method is deprecated and will be removed from pandas in a future version. Use pandas.concat instead.\n",
      "  tesla_revenue = tesla_revenue.append({\"Date\":date, \"Revenue\":Revenue}, ignore_index=True)\n",
      "/var/folders/nz/n57f12195sb4l1sr1c9b_3fr0000gn/T/ipykernel_89667/2250338848.py:7: FutureWarning: The frame.append method is deprecated and will be removed from pandas in a future version. Use pandas.concat instead.\n",
      "  tesla_revenue = tesla_revenue.append({\"Date\":date, \"Revenue\":Revenue}, ignore_index=True)\n",
      "/var/folders/nz/n57f12195sb4l1sr1c9b_3fr0000gn/T/ipykernel_89667/2250338848.py:7: FutureWarning: The frame.append method is deprecated and will be removed from pandas in a future version. Use pandas.concat instead.\n",
      "  tesla_revenue = tesla_revenue.append({\"Date\":date, \"Revenue\":Revenue}, ignore_index=True)\n",
      "/var/folders/nz/n57f12195sb4l1sr1c9b_3fr0000gn/T/ipykernel_89667/2250338848.py:7: FutureWarning: The frame.append method is deprecated and will be removed from pandas in a future version. Use pandas.concat instead.\n",
      "  tesla_revenue = tesla_revenue.append({\"Date\":date, \"Revenue\":Revenue}, ignore_index=True)\n",
      "/var/folders/nz/n57f12195sb4l1sr1c9b_3fr0000gn/T/ipykernel_89667/2250338848.py:7: FutureWarning: The frame.append method is deprecated and will be removed from pandas in a future version. Use pandas.concat instead.\n",
      "  tesla_revenue = tesla_revenue.append({\"Date\":date, \"Revenue\":Revenue}, ignore_index=True)\n",
      "/var/folders/nz/n57f12195sb4l1sr1c9b_3fr0000gn/T/ipykernel_89667/2250338848.py:7: FutureWarning: The frame.append method is deprecated and will be removed from pandas in a future version. Use pandas.concat instead.\n",
      "  tesla_revenue = tesla_revenue.append({\"Date\":date, \"Revenue\":Revenue}, ignore_index=True)\n",
      "/var/folders/nz/n57f12195sb4l1sr1c9b_3fr0000gn/T/ipykernel_89667/2250338848.py:7: FutureWarning: The frame.append method is deprecated and will be removed from pandas in a future version. Use pandas.concat instead.\n",
      "  tesla_revenue = tesla_revenue.append({\"Date\":date, \"Revenue\":Revenue}, ignore_index=True)\n",
      "/var/folders/nz/n57f12195sb4l1sr1c9b_3fr0000gn/T/ipykernel_89667/2250338848.py:7: FutureWarning: The frame.append method is deprecated and will be removed from pandas in a future version. Use pandas.concat instead.\n",
      "  tesla_revenue = tesla_revenue.append({\"Date\":date, \"Revenue\":Revenue}, ignore_index=True)\n",
      "/var/folders/nz/n57f12195sb4l1sr1c9b_3fr0000gn/T/ipykernel_89667/2250338848.py:7: FutureWarning: The frame.append method is deprecated and will be removed from pandas in a future version. Use pandas.concat instead.\n",
      "  tesla_revenue = tesla_revenue.append({\"Date\":date, \"Revenue\":Revenue}, ignore_index=True)\n",
      "/var/folders/nz/n57f12195sb4l1sr1c9b_3fr0000gn/T/ipykernel_89667/2250338848.py:7: FutureWarning: The frame.append method is deprecated and will be removed from pandas in a future version. Use pandas.concat instead.\n",
      "  tesla_revenue = tesla_revenue.append({\"Date\":date, \"Revenue\":Revenue}, ignore_index=True)\n",
      "/var/folders/nz/n57f12195sb4l1sr1c9b_3fr0000gn/T/ipykernel_89667/2250338848.py:7: FutureWarning: The frame.append method is deprecated and will be removed from pandas in a future version. Use pandas.concat instead.\n",
      "  tesla_revenue = tesla_revenue.append({\"Date\":date, \"Revenue\":Revenue}, ignore_index=True)\n",
      "/var/folders/nz/n57f12195sb4l1sr1c9b_3fr0000gn/T/ipykernel_89667/2250338848.py:7: FutureWarning: The frame.append method is deprecated and will be removed from pandas in a future version. Use pandas.concat instead.\n",
      "  tesla_revenue = tesla_revenue.append({\"Date\":date, \"Revenue\":Revenue}, ignore_index=True)\n",
      "/var/folders/nz/n57f12195sb4l1sr1c9b_3fr0000gn/T/ipykernel_89667/2250338848.py:7: FutureWarning: The frame.append method is deprecated and will be removed from pandas in a future version. Use pandas.concat instead.\n",
      "  tesla_revenue = tesla_revenue.append({\"Date\":date, \"Revenue\":Revenue}, ignore_index=True)\n",
      "/var/folders/nz/n57f12195sb4l1sr1c9b_3fr0000gn/T/ipykernel_89667/2250338848.py:7: FutureWarning: The frame.append method is deprecated and will be removed from pandas in a future version. Use pandas.concat instead.\n",
      "  tesla_revenue = tesla_revenue.append({\"Date\":date, \"Revenue\":Revenue}, ignore_index=True)\n",
      "/var/folders/nz/n57f12195sb4l1sr1c9b_3fr0000gn/T/ipykernel_89667/2250338848.py:7: FutureWarning: The frame.append method is deprecated and will be removed from pandas in a future version. Use pandas.concat instead.\n",
      "  tesla_revenue = tesla_revenue.append({\"Date\":date, \"Revenue\":Revenue}, ignore_index=True)\n",
      "/var/folders/nz/n57f12195sb4l1sr1c9b_3fr0000gn/T/ipykernel_89667/2250338848.py:7: FutureWarning: The frame.append method is deprecated and will be removed from pandas in a future version. Use pandas.concat instead.\n",
      "  tesla_revenue = tesla_revenue.append({\"Date\":date, \"Revenue\":Revenue}, ignore_index=True)\n",
      "/var/folders/nz/n57f12195sb4l1sr1c9b_3fr0000gn/T/ipykernel_89667/2250338848.py:7: FutureWarning: The frame.append method is deprecated and will be removed from pandas in a future version. Use pandas.concat instead.\n",
      "  tesla_revenue = tesla_revenue.append({\"Date\":date, \"Revenue\":Revenue}, ignore_index=True)\n",
      "/var/folders/nz/n57f12195sb4l1sr1c9b_3fr0000gn/T/ipykernel_89667/2250338848.py:7: FutureWarning: The frame.append method is deprecated and will be removed from pandas in a future version. Use pandas.concat instead.\n",
      "  tesla_revenue = tesla_revenue.append({\"Date\":date, \"Revenue\":Revenue}, ignore_index=True)\n",
      "/var/folders/nz/n57f12195sb4l1sr1c9b_3fr0000gn/T/ipykernel_89667/2250338848.py:7: FutureWarning: The frame.append method is deprecated and will be removed from pandas in a future version. Use pandas.concat instead.\n",
      "  tesla_revenue = tesla_revenue.append({\"Date\":date, \"Revenue\":Revenue}, ignore_index=True)\n",
      "/var/folders/nz/n57f12195sb4l1sr1c9b_3fr0000gn/T/ipykernel_89667/2250338848.py:7: FutureWarning: The frame.append method is deprecated and will be removed from pandas in a future version. Use pandas.concat instead.\n",
      "  tesla_revenue = tesla_revenue.append({\"Date\":date, \"Revenue\":Revenue}, ignore_index=True)\n",
      "/var/folders/nz/n57f12195sb4l1sr1c9b_3fr0000gn/T/ipykernel_89667/2250338848.py:7: FutureWarning: The frame.append method is deprecated and will be removed from pandas in a future version. Use pandas.concat instead.\n",
      "  tesla_revenue = tesla_revenue.append({\"Date\":date, \"Revenue\":Revenue}, ignore_index=True)\n",
      "/var/folders/nz/n57f12195sb4l1sr1c9b_3fr0000gn/T/ipykernel_89667/2250338848.py:7: FutureWarning: The frame.append method is deprecated and will be removed from pandas in a future version. Use pandas.concat instead.\n",
      "  tesla_revenue = tesla_revenue.append({\"Date\":date, \"Revenue\":Revenue}, ignore_index=True)\n",
      "/var/folders/nz/n57f12195sb4l1sr1c9b_3fr0000gn/T/ipykernel_89667/2250338848.py:7: FutureWarning: The frame.append method is deprecated and will be removed from pandas in a future version. Use pandas.concat instead.\n",
      "  tesla_revenue = tesla_revenue.append({\"Date\":date, \"Revenue\":Revenue}, ignore_index=True)\n",
      "/var/folders/nz/n57f12195sb4l1sr1c9b_3fr0000gn/T/ipykernel_89667/2250338848.py:7: FutureWarning: The frame.append method is deprecated and will be removed from pandas in a future version. Use pandas.concat instead.\n",
      "  tesla_revenue = tesla_revenue.append({\"Date\":date, \"Revenue\":Revenue}, ignore_index=True)\n",
      "/var/folders/nz/n57f12195sb4l1sr1c9b_3fr0000gn/T/ipykernel_89667/2250338848.py:7: FutureWarning: The frame.append method is deprecated and will be removed from pandas in a future version. Use pandas.concat instead.\n",
      "  tesla_revenue = tesla_revenue.append({\"Date\":date, \"Revenue\":Revenue}, ignore_index=True)\n",
      "/var/folders/nz/n57f12195sb4l1sr1c9b_3fr0000gn/T/ipykernel_89667/2250338848.py:7: FutureWarning: The frame.append method is deprecated and will be removed from pandas in a future version. Use pandas.concat instead.\n",
      "  tesla_revenue = tesla_revenue.append({\"Date\":date, \"Revenue\":Revenue}, ignore_index=True)\n",
      "/var/folders/nz/n57f12195sb4l1sr1c9b_3fr0000gn/T/ipykernel_89667/2250338848.py:7: FutureWarning: The frame.append method is deprecated and will be removed from pandas in a future version. Use pandas.concat instead.\n",
      "  tesla_revenue = tesla_revenue.append({\"Date\":date, \"Revenue\":Revenue}, ignore_index=True)\n",
      "/var/folders/nz/n57f12195sb4l1sr1c9b_3fr0000gn/T/ipykernel_89667/2250338848.py:7: FutureWarning: The frame.append method is deprecated and will be removed from pandas in a future version. Use pandas.concat instead.\n",
      "  tesla_revenue = tesla_revenue.append({\"Date\":date, \"Revenue\":Revenue}, ignore_index=True)\n",
      "/var/folders/nz/n57f12195sb4l1sr1c9b_3fr0000gn/T/ipykernel_89667/2250338848.py:7: FutureWarning: The frame.append method is deprecated and will be removed from pandas in a future version. Use pandas.concat instead.\n",
      "  tesla_revenue = tesla_revenue.append({\"Date\":date, \"Revenue\":Revenue}, ignore_index=True)\n",
      "/var/folders/nz/n57f12195sb4l1sr1c9b_3fr0000gn/T/ipykernel_89667/2250338848.py:7: FutureWarning: The frame.append method is deprecated and will be removed from pandas in a future version. Use pandas.concat instead.\n",
      "  tesla_revenue = tesla_revenue.append({\"Date\":date, \"Revenue\":Revenue}, ignore_index=True)\n",
      "/var/folders/nz/n57f12195sb4l1sr1c9b_3fr0000gn/T/ipykernel_89667/2250338848.py:7: FutureWarning: The frame.append method is deprecated and will be removed from pandas in a future version. Use pandas.concat instead.\n",
      "  tesla_revenue = tesla_revenue.append({\"Date\":date, \"Revenue\":Revenue}, ignore_index=True)\n",
      "/var/folders/nz/n57f12195sb4l1sr1c9b_3fr0000gn/T/ipykernel_89667/2250338848.py:7: FutureWarning: The frame.append method is deprecated and will be removed from pandas in a future version. Use pandas.concat instead.\n",
      "  tesla_revenue = tesla_revenue.append({\"Date\":date, \"Revenue\":Revenue}, ignore_index=True)\n",
      "/var/folders/nz/n57f12195sb4l1sr1c9b_3fr0000gn/T/ipykernel_89667/2250338848.py:7: FutureWarning: The frame.append method is deprecated and will be removed from pandas in a future version. Use pandas.concat instead.\n",
      "  tesla_revenue = tesla_revenue.append({\"Date\":date, \"Revenue\":Revenue}, ignore_index=True)\n",
      "/var/folders/nz/n57f12195sb4l1sr1c9b_3fr0000gn/T/ipykernel_89667/2250338848.py:7: FutureWarning: The frame.append method is deprecated and will be removed from pandas in a future version. Use pandas.concat instead.\n",
      "  tesla_revenue = tesla_revenue.append({\"Date\":date, \"Revenue\":Revenue}, ignore_index=True)\n",
      "/var/folders/nz/n57f12195sb4l1sr1c9b_3fr0000gn/T/ipykernel_89667/2250338848.py:7: FutureWarning: The frame.append method is deprecated and will be removed from pandas in a future version. Use pandas.concat instead.\n",
      "  tesla_revenue = tesla_revenue.append({\"Date\":date, \"Revenue\":Revenue}, ignore_index=True)\n",
      "/var/folders/nz/n57f12195sb4l1sr1c9b_3fr0000gn/T/ipykernel_89667/2250338848.py:7: FutureWarning: The frame.append method is deprecated and will be removed from pandas in a future version. Use pandas.concat instead.\n",
      "  tesla_revenue = tesla_revenue.append({\"Date\":date, \"Revenue\":Revenue}, ignore_index=True)\n",
      "/var/folders/nz/n57f12195sb4l1sr1c9b_3fr0000gn/T/ipykernel_89667/2250338848.py:7: FutureWarning: The frame.append method is deprecated and will be removed from pandas in a future version. Use pandas.concat instead.\n",
      "  tesla_revenue = tesla_revenue.append({\"Date\":date, \"Revenue\":Revenue}, ignore_index=True)\n",
      "/var/folders/nz/n57f12195sb4l1sr1c9b_3fr0000gn/T/ipykernel_89667/2250338848.py:7: FutureWarning: The frame.append method is deprecated and will be removed from pandas in a future version. Use pandas.concat instead.\n",
      "  tesla_revenue = tesla_revenue.append({\"Date\":date, \"Revenue\":Revenue}, ignore_index=True)\n",
      "/var/folders/nz/n57f12195sb4l1sr1c9b_3fr0000gn/T/ipykernel_89667/2250338848.py:7: FutureWarning: The frame.append method is deprecated and will be removed from pandas in a future version. Use pandas.concat instead.\n",
      "  tesla_revenue = tesla_revenue.append({\"Date\":date, \"Revenue\":Revenue}, ignore_index=True)\n"
     ]
    }
   ],
   "source": [
    "tesla_revenue = pd.DataFrame(columns=[\"Date\", \"Revenue\"])\n",
    "\n",
    "for row in beautiful_soup.find_all(\"tbody\")[1].find_all(\"tr\"):\n",
    "    col = row.find_all(\"td\")\n",
    "    date = col[0].text\n",
    "    Revenue = col[1].text\n",
    "    tesla_revenue = tesla_revenue.append({\"Date\":date, \"Revenue\":Revenue}, ignore_index=True)  "
   ]
  },
  {
   "cell_type": "markdown",
   "id": "1eebfa01",
   "metadata": {},
   "source": [
    "<details><summary>Click here if you need help locating the table</summary>\n",
    "\n",
    "```\n",
    "    \n",
    "Below is the code to isolate the table, you will now need to loop through the rows and columns like in the previous lab\n",
    "    \n",
    "soup.find_all(\"tbody\")[1]\n",
    "    \n",
    "If you want to use the read_html function the table is located at index 1\n",
    "\n",
    "\n",
    "```\n",
    "\n",
    "</details>\n"
   ]
  },
  {
   "cell_type": "markdown",
   "id": "b6c0d773",
   "metadata": {},
   "source": [
    "Execute the following line to remove the comma and dollar sign from the `Revenue` column. \n"
   ]
  },
  {
   "cell_type": "code",
   "execution_count": 15,
   "id": "0cac357b",
   "metadata": {},
   "outputs": [
    {
     "name": "stderr",
     "output_type": "stream",
     "text": [
      "/var/folders/nz/n57f12195sb4l1sr1c9b_3fr0000gn/T/ipykernel_89667/349343550.py:1: FutureWarning: The default value of regex will change from True to False in a future version.\n",
      "  tesla_revenue[\"Revenue\"] = tesla_revenue['Revenue'].str.replace(',|\\$',\"\")\n"
     ]
    }
   ],
   "source": [
    "tesla_revenue[\"Revenue\"] = tesla_revenue['Revenue'].str.replace(',|\\$',\"\")"
   ]
  },
  {
   "cell_type": "markdown",
   "id": "058a1e1e",
   "metadata": {},
   "source": [
    "Execute the following lines to remove an null or empty strings in the Revenue column.\n"
   ]
  },
  {
   "cell_type": "code",
   "execution_count": 16,
   "id": "a554ee2e",
   "metadata": {},
   "outputs": [],
   "source": [
    "tesla_revenue.dropna(inplace=True)\n",
    "\n",
    "tesla_revenue = tesla_revenue[tesla_revenue['Revenue'] != \"\"]"
   ]
  },
  {
   "cell_type": "markdown",
   "id": "beec300a",
   "metadata": {},
   "source": [
    "Display the last 5 row of the `tesla_revenue` dataframe using the `tail` function. Take a screenshot of the results.\n"
   ]
  },
  {
   "cell_type": "code",
   "execution_count": 37,
   "id": "e9317c48",
   "metadata": {},
   "outputs": [
    {
     "data": {
      "text/html": [
       "<div>\n",
       "<style scoped>\n",
       "    .dataframe tbody tr th:only-of-type {\n",
       "        vertical-align: middle;\n",
       "    }\n",
       "\n",
       "    .dataframe tbody tr th {\n",
       "        vertical-align: top;\n",
       "    }\n",
       "\n",
       "    .dataframe thead th {\n",
       "        text-align: right;\n",
       "    }\n",
       "</style>\n",
       "<table border=\"1\" class=\"dataframe\">\n",
       "  <thead>\n",
       "    <tr style=\"text-align: right;\">\n",
       "      <th></th>\n",
       "      <th>Date</th>\n",
       "      <th>Revenue</th>\n",
       "    </tr>\n",
       "  </thead>\n",
       "  <tbody>\n",
       "    <tr>\n",
       "      <th>48</th>\n",
       "      <td>2010-09-30</td>\n",
       "      <td>31</td>\n",
       "    </tr>\n",
       "    <tr>\n",
       "      <th>49</th>\n",
       "      <td>2010-06-30</td>\n",
       "      <td>28</td>\n",
       "    </tr>\n",
       "    <tr>\n",
       "      <th>50</th>\n",
       "      <td>2010-03-31</td>\n",
       "      <td>21</td>\n",
       "    </tr>\n",
       "    <tr>\n",
       "      <th>52</th>\n",
       "      <td>2009-09-30</td>\n",
       "      <td>46</td>\n",
       "    </tr>\n",
       "    <tr>\n",
       "      <th>53</th>\n",
       "      <td>2009-06-30</td>\n",
       "      <td>27</td>\n",
       "    </tr>\n",
       "  </tbody>\n",
       "</table>\n",
       "</div>"
      ],
      "text/plain": [
       "          Date Revenue\n",
       "48  2010-09-30      31\n",
       "49  2010-06-30      28\n",
       "50  2010-03-31      21\n",
       "52  2009-09-30      46\n",
       "53  2009-06-30      27"
      ]
     },
     "execution_count": 37,
     "metadata": {},
     "output_type": "execute_result"
    }
   ],
   "source": [
    "tesla_revenue.tail()"
   ]
  },
  {
   "cell_type": "code",
   "execution_count": 36,
   "id": "018eaa5f",
   "metadata": {},
   "outputs": [
    {
     "name": "stdout",
     "output_type": "stream",
     "text": [
      "          Date Revenue\n",
      "0   2022-09-30   21454\n",
      "1   2022-06-30   16934\n",
      "2   2022-03-31   18756\n",
      "3   2021-12-31   17719\n",
      "4   2021-09-30   13757\n",
      "5   2021-06-30   11958\n",
      "6   2021-03-31   10389\n",
      "7   2020-12-31   10744\n",
      "8   2020-09-30    8771\n",
      "9   2020-06-30    6036\n",
      "10  2020-03-31    5985\n",
      "11  2019-12-31    7384\n",
      "12  2019-09-30    6303\n",
      "13  2019-06-30    6350\n",
      "14  2019-03-31    4541\n",
      "15  2018-12-31    7226\n",
      "16  2018-09-30    6824\n",
      "17  2018-06-30    4002\n",
      "18  2018-03-31    3409\n",
      "19  2017-12-31    3288\n",
      "20  2017-09-30    2985\n",
      "21  2017-06-30    2790\n",
      "22  2017-03-31    2696\n",
      "23  2016-12-31    2285\n",
      "24  2016-09-30    2298\n",
      "25  2016-06-30    1270\n",
      "26  2016-03-31    1147\n",
      "27  2015-12-31    1214\n",
      "28  2015-09-30     937\n",
      "29  2015-06-30     955\n",
      "30  2015-03-31     940\n",
      "31  2014-12-31     957\n",
      "32  2014-09-30     852\n",
      "33  2014-06-30     769\n",
      "34  2014-03-31     621\n",
      "35  2013-12-31     615\n",
      "36  2013-09-30     431\n",
      "37  2013-06-30     405\n",
      "38  2013-03-31     562\n",
      "39  2012-12-31     306\n",
      "40  2012-09-30      50\n",
      "41  2012-06-30      27\n",
      "42  2012-03-31      30\n",
      "43  2011-12-31      39\n",
      "44  2011-09-30      58\n",
      "45  2011-06-30      58\n",
      "46  2011-03-31      49\n",
      "47  2010-12-31      36\n",
      "48  2010-09-30      31\n",
      "49  2010-06-30      28\n",
      "50  2010-03-31      21\n",
      "52  2009-09-30      46\n",
      "53  2009-06-30      27\n"
     ]
    }
   ],
   "source": [
    "print(tesla_revenue)"
   ]
  },
  {
   "cell_type": "markdown",
   "id": "96dec454",
   "metadata": {},
   "source": [
    "## Question 3: Use yfinance to Extract Stock Data\n"
   ]
  },
  {
   "cell_type": "markdown",
   "id": "23fa24e6",
   "metadata": {},
   "source": [
    "Using the `Ticker` function enter the ticker symbol of the stock we want to extract data on to create a ticker object. The stock is GameStop and its ticker symbol is `GME`.\n"
   ]
  },
  {
   "cell_type": "code",
   "execution_count": 18,
   "id": "5d44e2b0",
   "metadata": {},
   "outputs": [],
   "source": [
    "game_stop = yf.Ticker(\"GME\")"
   ]
  },
  {
   "cell_type": "markdown",
   "id": "801fe210",
   "metadata": {},
   "source": [
    "Using the ticker object and the function `history` extract stock information and save it in a dataframe named `gme_data`. Set the `period` parameter to `max` so we get information for the maximum amount of time.\n"
   ]
  },
  {
   "cell_type": "code",
   "execution_count": 19,
   "id": "4b2ee851",
   "metadata": {},
   "outputs": [],
   "source": [
    "gme_data = game_stop.history(period=\"max\")"
   ]
  },
  {
   "cell_type": "markdown",
   "id": "c5131bf9",
   "metadata": {},
   "source": [
    "**Reset the index** using the `reset_index(inplace=True)` function on the gme_data DataFrame and display the first five rows of the `gme_data` dataframe using the `head` function. Take a screenshot of the results and code from the beginning of Question 3 to the results below.\n"
   ]
  },
  {
   "cell_type": "code",
   "execution_count": 20,
   "id": "1182ed58",
   "metadata": {},
   "outputs": [],
   "source": [
    "gme_data.reset_index(inplace=True)"
   ]
  },
  {
   "cell_type": "code",
   "execution_count": 21,
   "id": "eab7f7dd",
   "metadata": {},
   "outputs": [
    {
     "data": {
      "text/html": [
       "<div>\n",
       "<style scoped>\n",
       "    .dataframe tbody tr th:only-of-type {\n",
       "        vertical-align: middle;\n",
       "    }\n",
       "\n",
       "    .dataframe tbody tr th {\n",
       "        vertical-align: top;\n",
       "    }\n",
       "\n",
       "    .dataframe thead th {\n",
       "        text-align: right;\n",
       "    }\n",
       "</style>\n",
       "<table border=\"1\" class=\"dataframe\">\n",
       "  <thead>\n",
       "    <tr style=\"text-align: right;\">\n",
       "      <th></th>\n",
       "      <th>Date</th>\n",
       "      <th>Open</th>\n",
       "      <th>High</th>\n",
       "      <th>Low</th>\n",
       "      <th>Close</th>\n",
       "      <th>Volume</th>\n",
       "      <th>Dividends</th>\n",
       "      <th>Stock Splits</th>\n",
       "    </tr>\n",
       "  </thead>\n",
       "  <tbody>\n",
       "    <tr>\n",
       "      <th>0</th>\n",
       "      <td>2002-02-13</td>\n",
       "      <td>1.620129</td>\n",
       "      <td>1.693350</td>\n",
       "      <td>1.603296</td>\n",
       "      <td>1.691667</td>\n",
       "      <td>76216000</td>\n",
       "      <td>0.0</td>\n",
       "      <td>0.0</td>\n",
       "    </tr>\n",
       "    <tr>\n",
       "      <th>1</th>\n",
       "      <td>2002-02-14</td>\n",
       "      <td>1.712707</td>\n",
       "      <td>1.716073</td>\n",
       "      <td>1.670625</td>\n",
       "      <td>1.683250</td>\n",
       "      <td>11021600</td>\n",
       "      <td>0.0</td>\n",
       "      <td>0.0</td>\n",
       "    </tr>\n",
       "    <tr>\n",
       "      <th>2</th>\n",
       "      <td>2002-02-15</td>\n",
       "      <td>1.683251</td>\n",
       "      <td>1.687459</td>\n",
       "      <td>1.658002</td>\n",
       "      <td>1.674834</td>\n",
       "      <td>8389600</td>\n",
       "      <td>0.0</td>\n",
       "      <td>0.0</td>\n",
       "    </tr>\n",
       "    <tr>\n",
       "      <th>3</th>\n",
       "      <td>2002-02-19</td>\n",
       "      <td>1.666418</td>\n",
       "      <td>1.666418</td>\n",
       "      <td>1.578047</td>\n",
       "      <td>1.607504</td>\n",
       "      <td>7410400</td>\n",
       "      <td>0.0</td>\n",
       "      <td>0.0</td>\n",
       "    </tr>\n",
       "    <tr>\n",
       "      <th>4</th>\n",
       "      <td>2002-02-20</td>\n",
       "      <td>1.615920</td>\n",
       "      <td>1.662210</td>\n",
       "      <td>1.603296</td>\n",
       "      <td>1.662210</td>\n",
       "      <td>6892800</td>\n",
       "      <td>0.0</td>\n",
       "      <td>0.0</td>\n",
       "    </tr>\n",
       "  </tbody>\n",
       "</table>\n",
       "</div>"
      ],
      "text/plain": [
       "        Date      Open      High       Low     Close    Volume  Dividends  \\\n",
       "0 2002-02-13  1.620129  1.693350  1.603296  1.691667  76216000        0.0   \n",
       "1 2002-02-14  1.712707  1.716073  1.670625  1.683250  11021600        0.0   \n",
       "2 2002-02-15  1.683251  1.687459  1.658002  1.674834   8389600        0.0   \n",
       "3 2002-02-19  1.666418  1.666418  1.578047  1.607504   7410400        0.0   \n",
       "4 2002-02-20  1.615920  1.662210  1.603296  1.662210   6892800        0.0   \n",
       "\n",
       "   Stock Splits  \n",
       "0           0.0  \n",
       "1           0.0  \n",
       "2           0.0  \n",
       "3           0.0  \n",
       "4           0.0  "
      ]
     },
     "execution_count": 21,
     "metadata": {},
     "output_type": "execute_result"
    }
   ],
   "source": [
    "gme_data.head()"
   ]
  },
  {
   "cell_type": "markdown",
   "id": "2794748c",
   "metadata": {},
   "source": [
    "## Question 4: Use Webscraping to Extract GME Revenue Data\n"
   ]
  },
  {
   "cell_type": "markdown",
   "id": "138d240d",
   "metadata": {},
   "source": [
    "Use the `requests` library to download the webpage https://cf-courses-data.s3.us.cloud-object-storage.appdomain.cloud/IBMDeveloperSkillsNetwork-PY0220EN-SkillsNetwork/labs/project/stock.html. Save the text of the response as a variable named `html_data`.\n"
   ]
  },
  {
   "cell_type": "code",
   "execution_count": 22,
   "id": "504df4c4",
   "metadata": {},
   "outputs": [],
   "source": [
    "url = \" https://cf-courses-data.s3.us.cloud-object-storage.appdomain.cloud/IBMDeveloperSkillsNetwork-PY0220EN-SkillsNetwork/labs/project/stock.html\"\n",
    "\n",
    "html_data  = requests.get(url).text"
   ]
  },
  {
   "cell_type": "markdown",
   "id": "b06244e7",
   "metadata": {},
   "source": [
    "Parse the html data using `beautiful_soup`.\n"
   ]
  },
  {
   "cell_type": "code",
   "execution_count": 23,
   "id": "c7bf145c",
   "metadata": {},
   "outputs": [],
   "source": [
    "soup = BeautifulSoup(html_data, 'html.parser')"
   ]
  },
  {
   "cell_type": "markdown",
   "id": "1066aa63",
   "metadata": {},
   "source": [
    "Using `BeautifulSoup` or the `read_html` function extract the table with `GameStop Quarterly Revenue` and store it into a dataframe named `gme_revenue`. The dataframe should have columns `Date` and `Revenue`. Make sure the comma and dollar sign is removed from the `Revenue` column using a method similar to what you did in Question 2.\n"
   ]
  },
  {
   "cell_type": "markdown",
   "id": "d1aa6357",
   "metadata": {},
   "source": [
    "<details><summary>Click here if you need help locating the table</summary>\n",
    "\n",
    "```\n",
    "    \n",
    "Below is the code to isolate the table, you will now need to loop through the rows and columns like in the previous lab\n",
    "    \n",
    "soup.find_all(\"tbody\")[1]\n",
    "    \n",
    "If you want to use the read_html function the table is located at index 1\n",
    "\n",
    "\n",
    "```\n",
    "\n",
    "</details>\n"
   ]
  },
  {
   "cell_type": "code",
   "execution_count": 40,
   "id": "b4c53c0a",
   "metadata": {},
   "outputs": [
    {
     "name": "stderr",
     "output_type": "stream",
     "text": [
      "/var/folders/nz/n57f12195sb4l1sr1c9b_3fr0000gn/T/ipykernel_89667/2851538837.py:7: FutureWarning:\n",
      "\n",
      "The frame.append method is deprecated and will be removed from pandas in a future version. Use pandas.concat instead.\n",
      "\n",
      "/var/folders/nz/n57f12195sb4l1sr1c9b_3fr0000gn/T/ipykernel_89667/2851538837.py:7: FutureWarning:\n",
      "\n",
      "The frame.append method is deprecated and will be removed from pandas in a future version. Use pandas.concat instead.\n",
      "\n",
      "/var/folders/nz/n57f12195sb4l1sr1c9b_3fr0000gn/T/ipykernel_89667/2851538837.py:7: FutureWarning:\n",
      "\n",
      "The frame.append method is deprecated and will be removed from pandas in a future version. Use pandas.concat instead.\n",
      "\n",
      "/var/folders/nz/n57f12195sb4l1sr1c9b_3fr0000gn/T/ipykernel_89667/2851538837.py:7: FutureWarning:\n",
      "\n",
      "The frame.append method is deprecated and will be removed from pandas in a future version. Use pandas.concat instead.\n",
      "\n",
      "/var/folders/nz/n57f12195sb4l1sr1c9b_3fr0000gn/T/ipykernel_89667/2851538837.py:7: FutureWarning:\n",
      "\n",
      "The frame.append method is deprecated and will be removed from pandas in a future version. Use pandas.concat instead.\n",
      "\n",
      "/var/folders/nz/n57f12195sb4l1sr1c9b_3fr0000gn/T/ipykernel_89667/2851538837.py:7: FutureWarning:\n",
      "\n",
      "The frame.append method is deprecated and will be removed from pandas in a future version. Use pandas.concat instead.\n",
      "\n",
      "/var/folders/nz/n57f12195sb4l1sr1c9b_3fr0000gn/T/ipykernel_89667/2851538837.py:7: FutureWarning:\n",
      "\n",
      "The frame.append method is deprecated and will be removed from pandas in a future version. Use pandas.concat instead.\n",
      "\n",
      "/var/folders/nz/n57f12195sb4l1sr1c9b_3fr0000gn/T/ipykernel_89667/2851538837.py:7: FutureWarning:\n",
      "\n",
      "The frame.append method is deprecated and will be removed from pandas in a future version. Use pandas.concat instead.\n",
      "\n",
      "/var/folders/nz/n57f12195sb4l1sr1c9b_3fr0000gn/T/ipykernel_89667/2851538837.py:7: FutureWarning:\n",
      "\n",
      "The frame.append method is deprecated and will be removed from pandas in a future version. Use pandas.concat instead.\n",
      "\n",
      "/var/folders/nz/n57f12195sb4l1sr1c9b_3fr0000gn/T/ipykernel_89667/2851538837.py:7: FutureWarning:\n",
      "\n",
      "The frame.append method is deprecated and will be removed from pandas in a future version. Use pandas.concat instead.\n",
      "\n",
      "/var/folders/nz/n57f12195sb4l1sr1c9b_3fr0000gn/T/ipykernel_89667/2851538837.py:7: FutureWarning:\n",
      "\n",
      "The frame.append method is deprecated and will be removed from pandas in a future version. Use pandas.concat instead.\n",
      "\n",
      "/var/folders/nz/n57f12195sb4l1sr1c9b_3fr0000gn/T/ipykernel_89667/2851538837.py:7: FutureWarning:\n",
      "\n",
      "The frame.append method is deprecated and will be removed from pandas in a future version. Use pandas.concat instead.\n",
      "\n",
      "/var/folders/nz/n57f12195sb4l1sr1c9b_3fr0000gn/T/ipykernel_89667/2851538837.py:7: FutureWarning:\n",
      "\n",
      "The frame.append method is deprecated and will be removed from pandas in a future version. Use pandas.concat instead.\n",
      "\n",
      "/var/folders/nz/n57f12195sb4l1sr1c9b_3fr0000gn/T/ipykernel_89667/2851538837.py:7: FutureWarning:\n",
      "\n",
      "The frame.append method is deprecated and will be removed from pandas in a future version. Use pandas.concat instead.\n",
      "\n",
      "/var/folders/nz/n57f12195sb4l1sr1c9b_3fr0000gn/T/ipykernel_89667/2851538837.py:7: FutureWarning:\n",
      "\n",
      "The frame.append method is deprecated and will be removed from pandas in a future version. Use pandas.concat instead.\n",
      "\n",
      "/var/folders/nz/n57f12195sb4l1sr1c9b_3fr0000gn/T/ipykernel_89667/2851538837.py:7: FutureWarning:\n",
      "\n",
      "The frame.append method is deprecated and will be removed from pandas in a future version. Use pandas.concat instead.\n",
      "\n",
      "/var/folders/nz/n57f12195sb4l1sr1c9b_3fr0000gn/T/ipykernel_89667/2851538837.py:7: FutureWarning:\n",
      "\n",
      "The frame.append method is deprecated and will be removed from pandas in a future version. Use pandas.concat instead.\n",
      "\n",
      "/var/folders/nz/n57f12195sb4l1sr1c9b_3fr0000gn/T/ipykernel_89667/2851538837.py:7: FutureWarning:\n",
      "\n",
      "The frame.append method is deprecated and will be removed from pandas in a future version. Use pandas.concat instead.\n",
      "\n",
      "/var/folders/nz/n57f12195sb4l1sr1c9b_3fr0000gn/T/ipykernel_89667/2851538837.py:7: FutureWarning:\n",
      "\n",
      "The frame.append method is deprecated and will be removed from pandas in a future version. Use pandas.concat instead.\n",
      "\n",
      "/var/folders/nz/n57f12195sb4l1sr1c9b_3fr0000gn/T/ipykernel_89667/2851538837.py:7: FutureWarning:\n",
      "\n",
      "The frame.append method is deprecated and will be removed from pandas in a future version. Use pandas.concat instead.\n",
      "\n",
      "/var/folders/nz/n57f12195sb4l1sr1c9b_3fr0000gn/T/ipykernel_89667/2851538837.py:7: FutureWarning:\n",
      "\n",
      "The frame.append method is deprecated and will be removed from pandas in a future version. Use pandas.concat instead.\n",
      "\n",
      "/var/folders/nz/n57f12195sb4l1sr1c9b_3fr0000gn/T/ipykernel_89667/2851538837.py:7: FutureWarning:\n",
      "\n",
      "The frame.append method is deprecated and will be removed from pandas in a future version. Use pandas.concat instead.\n",
      "\n",
      "/var/folders/nz/n57f12195sb4l1sr1c9b_3fr0000gn/T/ipykernel_89667/2851538837.py:7: FutureWarning:\n",
      "\n",
      "The frame.append method is deprecated and will be removed from pandas in a future version. Use pandas.concat instead.\n",
      "\n",
      "/var/folders/nz/n57f12195sb4l1sr1c9b_3fr0000gn/T/ipykernel_89667/2851538837.py:7: FutureWarning:\n",
      "\n",
      "The frame.append method is deprecated and will be removed from pandas in a future version. Use pandas.concat instead.\n",
      "\n",
      "/var/folders/nz/n57f12195sb4l1sr1c9b_3fr0000gn/T/ipykernel_89667/2851538837.py:7: FutureWarning:\n",
      "\n",
      "The frame.append method is deprecated and will be removed from pandas in a future version. Use pandas.concat instead.\n",
      "\n",
      "/var/folders/nz/n57f12195sb4l1sr1c9b_3fr0000gn/T/ipykernel_89667/2851538837.py:7: FutureWarning:\n",
      "\n",
      "The frame.append method is deprecated and will be removed from pandas in a future version. Use pandas.concat instead.\n",
      "\n",
      "/var/folders/nz/n57f12195sb4l1sr1c9b_3fr0000gn/T/ipykernel_89667/2851538837.py:7: FutureWarning:\n",
      "\n",
      "The frame.append method is deprecated and will be removed from pandas in a future version. Use pandas.concat instead.\n",
      "\n",
      "/var/folders/nz/n57f12195sb4l1sr1c9b_3fr0000gn/T/ipykernel_89667/2851538837.py:7: FutureWarning:\n",
      "\n",
      "The frame.append method is deprecated and will be removed from pandas in a future version. Use pandas.concat instead.\n",
      "\n",
      "/var/folders/nz/n57f12195sb4l1sr1c9b_3fr0000gn/T/ipykernel_89667/2851538837.py:7: FutureWarning:\n",
      "\n",
      "The frame.append method is deprecated and will be removed from pandas in a future version. Use pandas.concat instead.\n",
      "\n",
      "/var/folders/nz/n57f12195sb4l1sr1c9b_3fr0000gn/T/ipykernel_89667/2851538837.py:7: FutureWarning:\n",
      "\n",
      "The frame.append method is deprecated and will be removed from pandas in a future version. Use pandas.concat instead.\n",
      "\n",
      "/var/folders/nz/n57f12195sb4l1sr1c9b_3fr0000gn/T/ipykernel_89667/2851538837.py:7: FutureWarning:\n",
      "\n",
      "The frame.append method is deprecated and will be removed from pandas in a future version. Use pandas.concat instead.\n",
      "\n",
      "/var/folders/nz/n57f12195sb4l1sr1c9b_3fr0000gn/T/ipykernel_89667/2851538837.py:7: FutureWarning:\n",
      "\n",
      "The frame.append method is deprecated and will be removed from pandas in a future version. Use pandas.concat instead.\n",
      "\n",
      "/var/folders/nz/n57f12195sb4l1sr1c9b_3fr0000gn/T/ipykernel_89667/2851538837.py:7: FutureWarning:\n",
      "\n",
      "The frame.append method is deprecated and will be removed from pandas in a future version. Use pandas.concat instead.\n",
      "\n",
      "/var/folders/nz/n57f12195sb4l1sr1c9b_3fr0000gn/T/ipykernel_89667/2851538837.py:7: FutureWarning:\n",
      "\n",
      "The frame.append method is deprecated and will be removed from pandas in a future version. Use pandas.concat instead.\n",
      "\n",
      "/var/folders/nz/n57f12195sb4l1sr1c9b_3fr0000gn/T/ipykernel_89667/2851538837.py:7: FutureWarning:\n",
      "\n",
      "The frame.append method is deprecated and will be removed from pandas in a future version. Use pandas.concat instead.\n",
      "\n",
      "/var/folders/nz/n57f12195sb4l1sr1c9b_3fr0000gn/T/ipykernel_89667/2851538837.py:7: FutureWarning:\n",
      "\n",
      "The frame.append method is deprecated and will be removed from pandas in a future version. Use pandas.concat instead.\n",
      "\n",
      "/var/folders/nz/n57f12195sb4l1sr1c9b_3fr0000gn/T/ipykernel_89667/2851538837.py:7: FutureWarning:\n",
      "\n",
      "The frame.append method is deprecated and will be removed from pandas in a future version. Use pandas.concat instead.\n",
      "\n",
      "/var/folders/nz/n57f12195sb4l1sr1c9b_3fr0000gn/T/ipykernel_89667/2851538837.py:7: FutureWarning:\n",
      "\n",
      "The frame.append method is deprecated and will be removed from pandas in a future version. Use pandas.concat instead.\n",
      "\n",
      "/var/folders/nz/n57f12195sb4l1sr1c9b_3fr0000gn/T/ipykernel_89667/2851538837.py:7: FutureWarning:\n",
      "\n",
      "The frame.append method is deprecated and will be removed from pandas in a future version. Use pandas.concat instead.\n",
      "\n",
      "/var/folders/nz/n57f12195sb4l1sr1c9b_3fr0000gn/T/ipykernel_89667/2851538837.py:7: FutureWarning:\n",
      "\n",
      "The frame.append method is deprecated and will be removed from pandas in a future version. Use pandas.concat instead.\n",
      "\n",
      "/var/folders/nz/n57f12195sb4l1sr1c9b_3fr0000gn/T/ipykernel_89667/2851538837.py:7: FutureWarning:\n",
      "\n",
      "The frame.append method is deprecated and will be removed from pandas in a future version. Use pandas.concat instead.\n",
      "\n",
      "/var/folders/nz/n57f12195sb4l1sr1c9b_3fr0000gn/T/ipykernel_89667/2851538837.py:7: FutureWarning:\n",
      "\n",
      "The frame.append method is deprecated and will be removed from pandas in a future version. Use pandas.concat instead.\n",
      "\n",
      "/var/folders/nz/n57f12195sb4l1sr1c9b_3fr0000gn/T/ipykernel_89667/2851538837.py:7: FutureWarning:\n",
      "\n",
      "The frame.append method is deprecated and will be removed from pandas in a future version. Use pandas.concat instead.\n",
      "\n",
      "/var/folders/nz/n57f12195sb4l1sr1c9b_3fr0000gn/T/ipykernel_89667/2851538837.py:7: FutureWarning:\n",
      "\n",
      "The frame.append method is deprecated and will be removed from pandas in a future version. Use pandas.concat instead.\n",
      "\n",
      "/var/folders/nz/n57f12195sb4l1sr1c9b_3fr0000gn/T/ipykernel_89667/2851538837.py:7: FutureWarning:\n",
      "\n",
      "The frame.append method is deprecated and will be removed from pandas in a future version. Use pandas.concat instead.\n",
      "\n",
      "/var/folders/nz/n57f12195sb4l1sr1c9b_3fr0000gn/T/ipykernel_89667/2851538837.py:7: FutureWarning:\n",
      "\n",
      "The frame.append method is deprecated and will be removed from pandas in a future version. Use pandas.concat instead.\n",
      "\n",
      "/var/folders/nz/n57f12195sb4l1sr1c9b_3fr0000gn/T/ipykernel_89667/2851538837.py:7: FutureWarning:\n",
      "\n",
      "The frame.append method is deprecated and will be removed from pandas in a future version. Use pandas.concat instead.\n",
      "\n",
      "/var/folders/nz/n57f12195sb4l1sr1c9b_3fr0000gn/T/ipykernel_89667/2851538837.py:7: FutureWarning:\n",
      "\n",
      "The frame.append method is deprecated and will be removed from pandas in a future version. Use pandas.concat instead.\n",
      "\n",
      "/var/folders/nz/n57f12195sb4l1sr1c9b_3fr0000gn/T/ipykernel_89667/2851538837.py:7: FutureWarning:\n",
      "\n",
      "The frame.append method is deprecated and will be removed from pandas in a future version. Use pandas.concat instead.\n",
      "\n",
      "/var/folders/nz/n57f12195sb4l1sr1c9b_3fr0000gn/T/ipykernel_89667/2851538837.py:7: FutureWarning:\n",
      "\n",
      "The frame.append method is deprecated and will be removed from pandas in a future version. Use pandas.concat instead.\n",
      "\n",
      "/var/folders/nz/n57f12195sb4l1sr1c9b_3fr0000gn/T/ipykernel_89667/2851538837.py:7: FutureWarning:\n",
      "\n",
      "The frame.append method is deprecated and will be removed from pandas in a future version. Use pandas.concat instead.\n",
      "\n",
      "/var/folders/nz/n57f12195sb4l1sr1c9b_3fr0000gn/T/ipykernel_89667/2851538837.py:7: FutureWarning:\n",
      "\n",
      "The frame.append method is deprecated and will be removed from pandas in a future version. Use pandas.concat instead.\n",
      "\n",
      "/var/folders/nz/n57f12195sb4l1sr1c9b_3fr0000gn/T/ipykernel_89667/2851538837.py:7: FutureWarning:\n",
      "\n",
      "The frame.append method is deprecated and will be removed from pandas in a future version. Use pandas.concat instead.\n",
      "\n",
      "/var/folders/nz/n57f12195sb4l1sr1c9b_3fr0000gn/T/ipykernel_89667/2851538837.py:7: FutureWarning:\n",
      "\n",
      "The frame.append method is deprecated and will be removed from pandas in a future version. Use pandas.concat instead.\n",
      "\n",
      "/var/folders/nz/n57f12195sb4l1sr1c9b_3fr0000gn/T/ipykernel_89667/2851538837.py:7: FutureWarning:\n",
      "\n",
      "The frame.append method is deprecated and will be removed from pandas in a future version. Use pandas.concat instead.\n",
      "\n",
      "/var/folders/nz/n57f12195sb4l1sr1c9b_3fr0000gn/T/ipykernel_89667/2851538837.py:7: FutureWarning:\n",
      "\n",
      "The frame.append method is deprecated and will be removed from pandas in a future version. Use pandas.concat instead.\n",
      "\n",
      "/var/folders/nz/n57f12195sb4l1sr1c9b_3fr0000gn/T/ipykernel_89667/2851538837.py:7: FutureWarning:\n",
      "\n",
      "The frame.append method is deprecated and will be removed from pandas in a future version. Use pandas.concat instead.\n",
      "\n",
      "/var/folders/nz/n57f12195sb4l1sr1c9b_3fr0000gn/T/ipykernel_89667/2851538837.py:7: FutureWarning:\n",
      "\n",
      "The frame.append method is deprecated and will be removed from pandas in a future version. Use pandas.concat instead.\n",
      "\n",
      "/var/folders/nz/n57f12195sb4l1sr1c9b_3fr0000gn/T/ipykernel_89667/2851538837.py:7: FutureWarning:\n",
      "\n",
      "The frame.append method is deprecated and will be removed from pandas in a future version. Use pandas.concat instead.\n",
      "\n",
      "/var/folders/nz/n57f12195sb4l1sr1c9b_3fr0000gn/T/ipykernel_89667/2851538837.py:7: FutureWarning:\n",
      "\n",
      "The frame.append method is deprecated and will be removed from pandas in a future version. Use pandas.concat instead.\n",
      "\n",
      "/var/folders/nz/n57f12195sb4l1sr1c9b_3fr0000gn/T/ipykernel_89667/2851538837.py:7: FutureWarning:\n",
      "\n",
      "The frame.append method is deprecated and will be removed from pandas in a future version. Use pandas.concat instead.\n",
      "\n",
      "/var/folders/nz/n57f12195sb4l1sr1c9b_3fr0000gn/T/ipykernel_89667/2851538837.py:7: FutureWarning:\n",
      "\n",
      "The frame.append method is deprecated and will be removed from pandas in a future version. Use pandas.concat instead.\n",
      "\n"
     ]
    }
   ],
   "source": [
    "gme_revenue = pd.DataFrame(columns=[\"Date\", \"Revenue\"])\n",
    "\n",
    "for row in soup.find_all(\"tbody\")[1].find_all(\"tr\"):\n",
    "    col = row.find_all(\"td\")\n",
    "    date = col[0].text\n",
    "    Revenue = col[1].text\n",
    "    gme_revenue = gme_revenue.append({\"Date\":date, \"Revenue\":Revenue}, ignore_index=True) \n",
    "\n"
   ]
  },
  {
   "cell_type": "code",
   "execution_count": 54,
   "id": "618f91ca",
   "metadata": {},
   "outputs": [
    {
     "name": "stderr",
     "output_type": "stream",
     "text": [
      "/var/folders/nz/n57f12195sb4l1sr1c9b_3fr0000gn/T/ipykernel_89667/401512746.py:1: FutureWarning:\n",
      "\n",
      "The default value of regex will change from True to False in a future version.\n",
      "\n"
     ]
    }
   ],
   "source": [
    "gme_revenue[\"Revenue\"] = gme_revenue['Revenue'].str.replace(',|\\$',\"\")"
   ]
  },
  {
   "cell_type": "markdown",
   "id": "03dd02cc",
   "metadata": {},
   "source": [
    "Display the last five rows of the `gme_revenue` dataframe using the `tail` function. Take a screenshot of the results.\n"
   ]
  },
  {
   "cell_type": "code",
   "execution_count": 55,
   "id": "4d5c610d",
   "metadata": {},
   "outputs": [],
   "source": [
    "gme_revenue.dropna(inplace=True)\n",
    "\n",
    "gme_revenue = gme_revenue[gme_revenue['Revenue'] != \"\"]"
   ]
  },
  {
   "cell_type": "code",
   "execution_count": 56,
   "id": "86ba3680",
   "metadata": {},
   "outputs": [
    {
     "data": {
      "text/html": [
       "<div>\n",
       "<style scoped>\n",
       "    .dataframe tbody tr th:only-of-type {\n",
       "        vertical-align: middle;\n",
       "    }\n",
       "\n",
       "    .dataframe tbody tr th {\n",
       "        vertical-align: top;\n",
       "    }\n",
       "\n",
       "    .dataframe thead th {\n",
       "        text-align: right;\n",
       "    }\n",
       "</style>\n",
       "<table border=\"1\" class=\"dataframe\">\n",
       "  <thead>\n",
       "    <tr style=\"text-align: right;\">\n",
       "      <th></th>\n",
       "      <th>Date</th>\n",
       "      <th>Revenue</th>\n",
       "    </tr>\n",
       "  </thead>\n",
       "  <tbody>\n",
       "    <tr>\n",
       "      <th>57</th>\n",
       "      <td>2006-01-31</td>\n",
       "      <td>1667</td>\n",
       "    </tr>\n",
       "    <tr>\n",
       "      <th>58</th>\n",
       "      <td>2005-10-31</td>\n",
       "      <td>534</td>\n",
       "    </tr>\n",
       "    <tr>\n",
       "      <th>59</th>\n",
       "      <td>2005-07-31</td>\n",
       "      <td>416</td>\n",
       "    </tr>\n",
       "    <tr>\n",
       "      <th>60</th>\n",
       "      <td>2005-04-30</td>\n",
       "      <td>475</td>\n",
       "    </tr>\n",
       "    <tr>\n",
       "      <th>61</th>\n",
       "      <td>2005-01-31</td>\n",
       "      <td>709</td>\n",
       "    </tr>\n",
       "  </tbody>\n",
       "</table>\n",
       "</div>"
      ],
      "text/plain": [
       "          Date Revenue\n",
       "57  2006-01-31    1667\n",
       "58  2005-10-31     534\n",
       "59  2005-07-31     416\n",
       "60  2005-04-30     475\n",
       "61  2005-01-31     709"
      ]
     },
     "execution_count": 56,
     "metadata": {},
     "output_type": "execute_result"
    }
   ],
   "source": [
    "gme_revenue.tail()"
   ]
  },
  {
   "cell_type": "markdown",
   "id": "d248a8ad",
   "metadata": {},
   "source": [
    "## Question 5: Plot Tesla Stock Graph\n"
   ]
  },
  {
   "cell_type": "markdown",
   "id": "575d296c",
   "metadata": {},
   "source": [
    "Use the `make_graph` function to graph the Tesla Stock Data, also provide a title for the graph. The structure to call the `make_graph` function is `make_graph(tesla_data, tesla_revenue, 'Tesla')`. Note the graph will only show data upto June 2021.\n"
   ]
  },
  {
   "cell_type": "markdown",
   "id": "30a15c9a",
   "metadata": {},
   "source": [
    "### Obs: function ''make_graph'' doesn't work"
   ]
  },
  {
   "cell_type": "code",
   "execution_count": 111,
   "id": "d9b8742e",
   "metadata": {},
   "outputs": [],
   "source": [
    "stock_data_specific = tesla_data[tesla_data.Date <= '2021--06-14']\n",
    "revenue_data_specific = tesla_revenue[tesla_revenue.Date <= '2021-04-30']"
   ]
  },
  {
   "cell_type": "code",
   "execution_count": 112,
   "id": "9704a47e",
   "metadata": {},
   "outputs": [
    {
     "data": {
      "text/plain": [
       "[Text(0.5, 0, 'Date'), Text(0, 0.5, 'Price US')]"
      ]
     },
     "execution_count": 112,
     "metadata": {},
     "output_type": "execute_result"
    },
    {
     "data": {
      "image/png": "[encoded data removed]",
      "text/plain": [
       "<Figure size 432x288 with 1 Axes>"
      ]
     },
     "metadata": {
      "needs_background": "light"
     },
     "output_type": "display_data"
    }
   ],
   "source": [
    "fig, ax = plt.subplots()\n",
    "ax.plot(pd.to_datetime(stock_data_specific.Date, infer_datetime_format=True), stock_data_specific.Close.astype(\"float\"), color = 'r')\n",
    "ax.set_title('Historycal Share Price')\n",
    "ax.set(xlabel = 'Date', ylabel='Price US')"
   ]
  },
  {
   "cell_type": "code",
   "execution_count": 113,
   "id": "7a690539",
   "metadata": {},
   "outputs": [
    {
     "data": {
      "text/plain": [
       "[Text(0.5, 0, 'Date'), Text(0, 0.5, 'Revenue US millons')]"
      ]
     },
     "execution_count": 113,
     "metadata": {},
     "output_type": "execute_result"
    },
    {
     "data": {
      "image/png": "[encoded data removed]",
      "text/plain": [
       "<Figure size 432x288 with 1 Axes>"
      ]
     },
     "metadata": {
      "needs_background": "light"
     },
     "output_type": "display_data"
    }
   ],
   "source": [
    "fig, ax = plt.subplots()\n",
    "ax.plot(pd.to_datetime(revenue_data_specific.Date, infer_datetime_format=True), revenue_data_specific.Revenue.astype(\"float\"))\n",
    "ax.set_title('Historycal Revenue')\n",
    "ax.set(xlabel = 'Date', ylabel='Revenue US millons')"
   ]
  },
  {
   "cell_type": "markdown",
   "id": "d4a4e0b9",
   "metadata": {},
   "source": [
    "## Question 6: Plot GameStop Stock Graph\n"
   ]
  },
  {
   "cell_type": "markdown",
   "id": "cbf7e1ee",
   "metadata": {},
   "source": [
    "Use the `make_graph` function to graph the GameStop Stock Data, also provide a title for the graph. The structure to call the `make_graph` function is `make_graph(gme_data, gme_revenue, 'GameStop')`. Note the graph will only show data upto June 2021.\n"
   ]
  },
  {
   "cell_type": "code",
   "execution_count": 114,
   "id": "bb5cea64",
   "metadata": {},
   "outputs": [],
   "source": [
    "stock_data_specific = gme_data[gme_data.Date <= '2021--06-14']\n",
    "revenue_data_specific = gme_revenue[gme_revenue.Date <= '2021-04-30']"
   ]
  },
  {
   "cell_type": "code",
   "execution_count": 115,
   "id": "d4ae8425",
   "metadata": {},
   "outputs": [
    {
     "data": {
      "text/plain": [
       "[Text(0.5, 0, 'Date'), Text(0, 0.5, 'Price US')]"
      ]
     },
     "execution_count": 115,
     "metadata": {},
     "output_type": "execute_result"
    },
    {
     "data": {
      "image/png": "[encoded data removed]",
      "text/plain": [
       "<Figure size 432x288 with 1 Axes>"
      ]
     },
     "metadata": {
      "needs_background": "light"
     },
     "output_type": "display_data"
    }
   ],
   "source": [
    "fig, ax = plt.subplots()\n",
    "ax.plot(pd.to_datetime(stock_data_specific.Date, infer_datetime_format=True), stock_data_specific.Close.astype(\"float\"), color ='r')\n",
    "ax.set_title('Historycal Share Price')\n",
    "ax.set(xlabel = 'Date', ylabel='Price US')"
   ]
  },
  {
   "cell_type": "code",
   "execution_count": 116,
   "id": "1c0d8913",
   "metadata": {},
   "outputs": [
    {
     "data": {
      "text/plain": [
       "[Text(0.5, 0, 'Date'), Text(0, 0.5, 'Revenue US millons')]"
      ]
     },
     "execution_count": 116,
     "metadata": {},
     "output_type": "execute_result"
    },
    {
     "data": {
      "image/png": "[encoded data removed]",
      "text/plain": [
       "<Figure size 432x288 with 1 Axes>"
      ]
     },
     "metadata": {
      "needs_background": "light"
     },
     "output_type": "display_data"
    }
   ],
   "source": [
    "fig, ax = plt.subplots()\n",
    "ax.plot(pd.to_datetime(revenue_data_specific.Date, infer_datetime_format=True), revenue_data_specific.Revenue.astype(\"float\"))\n",
    "ax.set_title('Historycal Revenue')\n",
    "ax.set(xlabel = 'Date', ylabel='Revenue US millons')"
   ]
  },
  {
   "cell_type": "markdown",
   "id": "4886a751",
   "metadata": {},
   "source": [
    "<h2>About the Authors:</h2> \n",
    "\n",
    "<a href=\"https://www.linkedin.com/in/joseph-s-50398b136/?utm_medium=Exinfluencer&utm_source=Exinfluencer&utm_content=000026UJ&utm_term=10006555&utm_id=NA-SkillsNetwork-Channel-SkillsNetworkCoursesIBMDeveloperSkillsNetworkPY0220ENSkillsNetwork900-2022-01-01\">Joseph Santarcangelo</a> has a PhD in Electrical Engineering, his research focused on using machine learning, signal processing, and computer vision to determine how videos impact human cognition. Joseph has been working for IBM since he completed his PhD.\n",
    "\n",
    "Azim Hirjani\n"
   ]
  },
  {
   "cell_type": "markdown",
   "id": "1ca352cc",
   "metadata": {},
   "source": [
    "## Change Log\n",
    "\n",
    "| Date (YYYY-MM-DD) | Version | Changed By    | Change Description        |\n",
    "| ----------------- | ------- | ------------- | ------------------------- |\n",
    "| 2022-02-28        | 1.2     | Lakshmi Holla | Changed the URL of GameStop |\n",
    "| 2020-11-10        | 1.1     | Malika Singla | Deleted the Optional part |\n",
    "| 2020-08-27        | 1.0     | Malika Singla | Added lab to GitLab       |\n",
    "\n",
    "<hr>\n",
    "\n",
    "## <h3 align=\"center\"> © IBM Corporation 2020. All rights reserved. <h3/>\n",
    "\n",
    "<p>\n"
   ]
  }
 ],
 "metadata": {
  "kernelspec": {
   "display_name": "Python 3 (ipykernel)",
   "language": "python",
   "name": "python3"
  },
  "language_info": {
   "codemirror_mode": {
    "name": "ipython",
    "version": 3
   },
   "file_extension": ".py",
   "mimetype": "text/x-python",
   "name": "python",
   "nbconvert_exporter": "python",
   "pygments_lexer": "ipython3",
   "version": "3.9.13"
  }
 },
 "nbformat": 4,
 "nbformat_minor": 5
}
